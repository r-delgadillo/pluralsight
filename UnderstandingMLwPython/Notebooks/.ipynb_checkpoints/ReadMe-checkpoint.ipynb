{
 "cells": [
  {
   "cell_type": "markdown",
   "metadata": {},
   "source": [
    "# Algorithm Deceision Factors\n",
    "### 1. Learning Type\n",
    "    - Prediciton Model => Supervised machine learning\n",
    "### 2. Result Type\n",
    "    - Regression\n",
    "        - Continuous set of values\n",
    "    - Classification\n",
    "        - Discrete values\n",
    "        - small, medium, large,\n",
    "        - true or false\n",
    "### 3. Complexity\n",
    "    - Keep it Simple\n",
    "    - Eliminate \"ensemble\" algorithms\n",
    "        - Container algorithm\n",
    "        - Multiple child algorithms\n",
    "        - Boost performance\n",
    "    \n",
    "### 4. Basic vs enhanced\n",
    "####  Enhanced\n",
    "    - Variation of Basic\n",
    "    - Performance improvements\n",
    "    - Additional functionality\n",
    "    - More complex\n",
    "### Basic\n",
    "    - Simpler\n",
    "    - Easier to udnerstand\n"
   ]
  },
  {
   "cell_type": "markdown",
   "metadata": {},
   "source": [
    "# Selection based on\n",
    "- Learning = Supervised\n",
    "- Result = Binary classification\n",
    "- Non-ensemble\n",
    "- Basic\n",
    "\n",
    "### Naive Bayes selected for training\n",
    "- Simple, fast, and stable"
   ]
  },
  {
   "cell_type": "markdown",
   "metadata": {},
   "source": [
    "# Training the Model"
   ]
  },
  {
   "cell_type": "markdown",
   "metadata": {},
   "source": [
    "## Why Retrain?\n",
    "- New data -> better predictions\n",
    "- Verifying training performance with new data\n",
    "\n",
    "## Training Overview\n",
    "- Split data 70% Training, 30% Test"
   ]
  },
  {
   "cell_type": "markdown",
   "metadata": {},
   "source": [
    "# Python Training Tools\n",
    "### scikit-learn has training functions\n",
    "    - Designed to work with NumPy, SciPy and Pandas\n",
    "    - Toolset for taining and evaluation tasks\n",
    "        - Data splitting\n",
    "        - Pre-processing\n",
    "        - Feature selection\n",
    "        - Model training\n",
    "        - Model tuning\n",
    "    - Common interface across algorithms\n"
   ]
  },
  {
   "cell_type": "markdown",
   "metadata": {},
   "source": [
    "# Missing Data\n",
    "## Common Problem\n",
    "\n",
    "### Options \n",
    "    - Ignore\n",
    "    - Drop oversvations (rows)\n",
    "    - Replace values (Impute)\n",
    "### Data numbers\n",
    "    - 768 rows\n",
    "    - 374 missing insulin values\n",
    "    - Can we ignore/delete almost 50% of data?\n",
    "    \n",
    "### Imputing Options\n",
    "    - Replace with mean, median\n",
    "    - Replace with expert knowledge derived valued\n",
    "    - Using mean imputing\n",
    "    "
   ]
  },
  {
   "cell_type": "markdown",
   "metadata": {},
   "source": [
    "# Fixing Overfitting\n",
    "The model works well with training data but bad with testing data. This is overfitting problem\n",
    "\n",
    "### 2 Techniques to help\n",
    " - Using hyperparameter (Regularization hyperparameter)\n",
    " - Cross validation"
   ]
  },
  {
   "cell_type": "markdown",
   "metadata": {},
   "source": [
    "# Performance Improvement Options, Take 2\n",
    "- Adjust current algorithm (Fixing overfitting)\n",
    "- Get more data or improve data\n",
    "- Improve training \n",
    "- Switch algorithms"
   ]
  },
  {
   "cell_type": "markdown",
   "metadata": {},
   "source": [
    "# Training - Test Split\n",
    "    - Trainging 70%, Testing 30%\n",
    "    - We need some for testing hyper parameters\n",
    "    \n",
    "    1. Split into 3 data sets??\n",
    "        - Training, Validation, Testing\n",
    "        - Common but has issues\n",
    "            - How do we choose validation data?\n",
    "                - Sometimes we don't have a ton of data\n",
    "    2. K-fold Cross Validation\n",
    "        - Training Data gets split into N folds (don't touch testing data)\n",
    "        - Training data gets split into N partitions\n",
    "        "
   ]
  },
  {
   "cell_type": "code",
   "execution_count": null,
   "metadata": {},
   "outputs": [],
   "source": []
  }
 ],
 "metadata": {
  "kernelspec": {
   "display_name": "Python 3",
   "language": "python",
   "name": "python3"
  },
  "language_info": {
   "codemirror_mode": {
    "name": "ipython",
    "version": 3
   },
   "file_extension": ".py",
   "mimetype": "text/x-python",
   "name": "python",
   "nbconvert_exporter": "python",
   "pygments_lexer": "ipython3",
   "version": "3.7.6"
  }
 },
 "nbformat": 4,
 "nbformat_minor": 4
}
